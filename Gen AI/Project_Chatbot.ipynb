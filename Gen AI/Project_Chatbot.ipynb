{
 "cells": [
  {
   "cell_type": "markdown",
   "metadata": {
    "id": "gYrMie49jpcK"
   },
   "source": [
    "# **Nestle HR ChatBot**                   \n",
    "\n",
    "![Nestle Logo_small.png](data:image/png;base64,iVBORw0KGgoAAAANSUhEUgAAAIgAAACHCAIAAABCjobQAAAAAXNSR0IArs4c6QAAAARnQU1BAACxjwv8YQUAAAAJcEhZcwAADsMAAA7DAcdvqGQAADw7SURBVHhe7X1lWxxZu+58Pn/gfDnXO5qxzGQmrkCE4A7BIViIE3ciECcCcYd4iLsLMeICcTc8eLvCuZd0UV3dDd2E2fvd+819PSFVq1aXrHs9VrVq1TdGY4MtabAo+RIBGq0BxZKarRUGumxoEkOLYrQoaUlwCID8oa0kCMolNVsSo0R4ozQ2fqNS6lRKvYWgUKdUtCAKhVberCjkXOQyrU5rICyYAyV6vVEm0zGRE0FljaXI6tWQ+nqtRGRU6us1XOrMpM4eqVVLpLZZqalRyxU6lUavUuvVKoNJsKxXKHS11RqrUlOlZlJtWqipxl9VdbWqqqpJOC1iYpSqJmKUCoiUBrHYQ4kcIizXa7Ua68Sgm4iIkfJBpJ6zIiNNb8YKxESMtr4O8qWsSDiwJQo0GohR6igfImJkupoqKSVMBGJABvtbLeJDEE4LIUalU5qUQ0RMEwcSQacgba0kf62KoCWED1YoI22nUTdPjBYipYQoCgQ/J6xwArgwFeHEkE2OUgJxnBImSqVYVzgxuEBcaXPEVIMSFf5KtEQsnBaqMQIZWgkHEqGU2OSDiZgVQgxpXLS4rr5ep1brLYkBQIxV80UNl1RFBBqo9lAR8WEPJaSOiA+HKCGVa1R1NWoLVgwqiFqPMxSIYfohMlxKCFYlTEiE08KIkRBgVZpRESLUcDEmOCu8fVFCbBSIUamsEwOHqZCb8SFvyXAxEfPBRMKBFTGnBCJpeltCataoiFSrcCARH3omcARKtb6uVlMrIYY6EqIrUBQLGiyF0wJiJARIpAVfQvlglAhCVYQJ9xyMGKg/p8ICOIoMlFDDZbJRElZoCanwX+dIuNQwoazUkFbGOZjxIYhSX1vD+BCIacFwWQqnpRliYLiYO2lOzCmhHd+MD0EoMTrOgwWwqV7WguHinJmzApFyYC6kgjkrEGnTNyOcD85KLen+arlcB+Uwo4QKjArTFVKN1gQlDrEC4bTYIoYZLoVSy+Jq4qPNhUG8QKSBiNGGNA89MgBjo0SMIiElBjPR2yN6CCJyttCos0/wEx1EZ6TSoNM2arUNWk0jE1vAJaKaDjW1Ro22QaNpUBMxmom2oV6mq6xUSvgQhO9LQgxMimC7lCpddbXySO7d3dn5e7fe3Lv1hkmwbCE5N/bm4K9todUO7bp9ePetw7vx10z2bbu5Jzs/N+eGTcFWkaAyqW9N2CaydQsXocQB2XKdyW4i+ZA9myE3dm/G8o29227ihCWyf/tNnCetQH+yOX+XFbm+de2VOzfegRsJHxCwBeG0iImRuBO11lBaUhfhljngj9kuv81y+iUV4gz5mf61XLZDnNrNcPo51YbMoHub+aXys0kk5a0X8VmRU8V5khOmDSIIKzSvLBXXv9Kcf03NXpWn0TVaUiIlhvoSM0qYaEBMaX2C/xr/XovmTT6wYt6JrPTjWen422rBzyEnLcqZHM/80v1LhB3uC/cp7IQIPUP+11FBAw4P2+DaYc6O9ddg6JjvEVPChNMCYiR8QOBgICCmrLQ+zm91YJ/FZcU1vPpXfAHWLDzdp92MHRuuwdNI+BCEV5UQI05WNBpDeQkn5uPbz7z6V3wBVs47CXO3ff1VlcYo4UMQXtWqxrDUBMQIGvPhzVdi2gAOE8ODY/OkRKwxX4lpEzRPDAsEeFUzjZEQo9aXFdd9JaYN0QwxjBUzYgQmxEojl2nUakNZsewrMW0IW8QIrFgnhvFBhdxWUamNpV+JaVNYEiOmhAmvKiKG39z9Ssw/BwkxEkqY8KqUGIEP9mSXPNz9Ssw/AYEYtcYo4UMQXpU4f3K/XXozGNxQH/M1KmtLEGLapbIEU8KHILwqJUbKCoQS8zUqa2MwYravt5cYGC7xQxSyCjUCMTyP6e0AMWUlny6ePHDu2L5P717zImsQPwQovHfz1KFd+XmnlQoZL/oCFH94e/3SKezw0qlDzwrvaZtu07f04KFlfOkeGDG7N1/X6MgtGQklTHhVpjHgxuRdBH+j0WqNn8upj7GbmCtnj8b59fLp8YNvjx9ivHtsXbP40M5NV88dl9XX8hoUDaYrVMjqVsydEtDnF9+eP0HGJwS+e/mUbXIEfG+lRe+z5k6K9Oji36udX88f/Xr9FOzy+8Sk4IsnD7IKrYKYDCx/ETcgpk+71P3bbmK5tlbdQlRmYoXyUa9mC0qFVq9vcIiYNy+eRHl0SQ7ph94KMtInJEZ5dIX49fxpZKTH04K7vB5FfV3Njg3Lhoe7+fVqtylz7sM71w/s2BDm+ve0EREaddPJ2Y8Xjx8mh/QHJfMnDz2xf/uNvDPgA3uOD+jj3eOHFfMmK+T1vKqDePfq2dJZY29dPcfXvwCMmH1bCTE6vbFephFzU01Ha7CaACOGZzDswbtCQYZL6fWNFRXyOL81xMe8bpmYXZsywUH+xVNsVa/TVZaXVJQWwaQkBrlAk8pLPrFNddVVk5IHQVGWzxl/7cJJVgjs3pQV5Pwb7A9ftxtVn8tHRLiHDvgr7/RhXmQCTGtm2kTPLv+aNXZwfW01L7UbDQ0NaROSAnr/jG7HCujfVoIQ81PqPqoxIEZvaFAqdFWVjBU6YKNKzWoCJI9hrDBisMoGf+j0DeVEY+wlZuPydJiOovfMtZhdwMe3r2BhVi2YxlbRkVHz9rULbFXA5bNHAnq3K7x3g6/bjV2bsry6fnd83zYsg6TP5SWsXEDOqoVeXf81d+IQtX3qSI0tuYTLZ4769vwxM30iK29jYvRGo8GoUumqq5R05AYRVhMgTzAFYuRyrVJFRn7ir6PEXDl33Kf7Dzs3ZuFoWK0oK7585ohWw33vni0rvbt/nzY+4e3LJyMj3TevmM/K1Srlg1tXsKBSytPGJ46LD5TX17FNdgKHSInxGR3trdfrij+9Gxo6IMar2/NH9/lmEzYuT4PerFsyi6/bgbqaqtFRXiF929+8fIYXfRksiTGAG2MD7JMVYlRKPdUVNUSh0gljPkAMNWX2+hi0y5rFMwOdfr1x+SxWVUrFrg2Zk5MHFdwlGgDPceXcMTiVlFifWJ8eBffyUWjQ65enTTh3bC+WP5eXRrh13Ld1LZYZSj6935u9etGM0YtmjDqwbT3CLb6Bg3feCycP+HT/fvu6ZVi+d+MyTgAWsrZaesIGg37h9JHe3b47smcLL2oJ6D3BfdvDSNZWV/Iim7BLk8TEEFZMQ8uNRnRQfU2lhBiVAYpSB7evaGIFoiXO3wFiAHT/BP8+sGl8vbHx7NG9MZ7dDuxYz1aLPryJcO80MyVWrVJgdV3GrPlTh7NNaMpI985QLLaaf+kU3BKcVmKg89BBA0IHdMDWBVOGb12bsX3d0tOHd6On0V9VgmxoSU0VOUOVWvnulc24rramEroF5i6fPcqLbKPgbj6cVpjrX+kTh5CRvBxmBBR9eLt/69rXzx/x9ZZgixgIGcOl0FdXiqIycCBXaGVyjUptEBMDjXGUGAABTLRXt+IPb/h6Y+PjB7fi/ftkr17ImnLhtJF5Z4iLzr90OtanZ0VZEa3VuGPdsiCX9s8fP8Dyi8cPwgd2TArqe/3CSTkNteHDc7NXzR4bPzray7/3z9dNIcaWFfO9u/+wYVnamxePJUG5Vbx//Twx0GVQ/w4XTuznRdaAEA4HmpgYlBLjjSvipSZ8Li8+f3z/vMnDItw6u3f+fw9uXeUbWoKYGDErECMZ+dUgq28aHEWIsSo6XUNFGbtXlmE/Ma+eFoT2/2tkpCesilbDFfPT+9c7NywncR54un+zurJCLqsbHj7w5IEdKIEpz5iZAuVA09PqjUtmjQ10+u3h7WtsK0wKixS0GtWUYWHZqxbSWo2vnhUmBbkMC3WFVk0fGalrZsiXCM8e3UeU6N+73ba1GbhIXkohqMOG5WmBzr+B7CWpKTgE/KJSLsPfM0dzF88YHePd3bfHjyAYGg8HKcphWwAlZgYnRm9ODHnjphFxGqsJEGKgKxJ1gVBi2L0yu4mhu0UOP9i3F1KKIcH9zh7ZQzcI4Ad++/Lp2oyZZHhgY+Ph3ZuhBFfPH2ebKstLB/v0nDlmMFvdv21dzx/+T8bMMVhGR16cOmrGqOiXTx5iFSqCEOPd62cJAU45qxfdQLCxZwuMp23bgsORI35893L6iEjEAvOnDquuqmDbBNy6ch45MmjDct6ZIwFOv4a7dRoa2j+k3x8BfX5GJ0AaC3UXB986nRbCV2yjeWIoNU0gxKg1ZKR6Eytk8L9OrzM6TIwJ5aVFSDNnjYmLdO8iCouhrHxJwJ38Swh7xG4JuSH6I3IatvrhzQvYDXgvLKOzbFuTgVYbF+f/8d0rVmHH+mVBzr/DWiYE9AGjQS6/w2Njh5YtJT48YpMNy+YgFhgX7w+F5qXU1iEnRYwnJKR38vPQh0AGApP7N69IkqGST+/2b1uLGAf+hhfZBiGmXeruLdexbBQRA0ooMY3knwnfgBUmjBI2+A/E6AgxzJQ54GPEePPyyaQhIXC204ZH3L2RxwrRoMw/I6rGpY6J9dmxbqlg9ICNmelQoIe3pYYb8ULqqOgRER7IImEMEdGhEMHeiQM77t+6it1C1T6XFT8tuJs+Icm72/f23Ik5uicbp5cc0v/V00JWsmtjJrpFi7kUWL9388qyOeMi3TshJhwfH1hdWc632QaIYXeXyRBf86iMCmGIV5USQ18ko6/LEGJKS+oG+66ixEj1vRkgrl2/dDbcJqxwvH/vJTPHwEyVFn1gW2HokoP7srsAZcUfVQo5K2dGRi6rRYiFDqvk5fxE0dnRwTNSU5jqNI/ST+8Rws2fwuO95pF39ghCPmjb80ck7kDkds/Uh4Sji1H1uexobvb4hEC/Xj/FeHVfMW/y3fw86B/f3CwYMTs3Xkd2p5DrQINdxJCXCqAx/M0/nVprKP5UG+fLNMZeYp4/vg/fGOffe+fGzPs3rz4tuMM3iAD/OWVomFWjfHzfVs+u3x7csYGvm4D081huDl+xgJCoC5g+MgrBhZ33x/Ivngrt3wHdCJ6PF1kDlHLrmsXDwwbCck5JDkPIXl/n2DhITsyGa7j06iq1Rm1gZFgnRqM1cmLU/NUyCOhRqPQmYhzwMamjY4aYFIIBOo5rmD952AFTc5cVfQh3/XvXpky2StuUnNCHty9A6phYb1Hyz08UTv7+jcv5eWdgqdCp0eJwDFBEmC9WQYKV86dGunUSnAfCBH2zzvnymcMIw0ZFeVaUsvAd7qipjV4+KVi9cEZCoHNI3z+SgvtePHUIsaKsrubJw9sHd2788PoFr9cSJMTU1aqpugjEEG54VRCj0xtVgtKYiJHLtAqFrvhTnf3E6LTaNYtnwGQLxh1aD4cxLGzglORQKNC7V89YOYAkMcj5N1wwXSNnA6c6ITEwuO8fEvuOjD13y0rkrf69fgpw+gVNAz8PczfYtyfa0VbucmjXJr9e7VjADVy/ePrKuWNs2RaO793q2+MHdCylkltXo0H//PFD8ijBvTMMF6KyUNe/ojy7jI3zg6vDaUR5dEkMdHpWKL39YwsCMVotbCbJ82GZ0AWsE2MwNjBWTMSQN4zq6zQKpWMag3QaLldI3dHHVy+aDt1/+ZS1PgfaHf0d3jvas+vscfEG+EGSoKgXTB2Onx/by+xV0/llr1zg1fXb8fEBx/dvK7hzHbHs3uzVMGsjItxg63klCyByRgRxxZThw0Zh/+KYxxz8cJuy5nl2+XZtBr+f9uAmucHj17tdSqxvZvrEAzvWIx4/ezT39OE9Z4/k3rl2sfjjW4ce7gk+BukTeROqmikNzovpDUQUlSF6biIGOY1SJ5drax0nBkkZQtVPH/jdZbS1+FYuMkpEoptXLFg4bQSLwTZlzkWuwEJYBAueXf8FDmhdgLfUo/s3oVhIXGC+sFpa9P5ZIXmuQ2ME18WpKdAJhQyOpIlIhpdPHgS7tN+9mfcSXPDUYWHw0mzVFnDKaeMTfbr/cPrQLqyiAyEWv3n5jKy+bcbUC8To9Q30dTV1TY1KrSIv2jFWzIjBP63GCEdEiCFuRldfT16SQyBQ/LHGfmJyc1b59vzx2vkTfN0EHBWGK96v96D+fyL/QOOycthoZveP7d3q3f37hdNGwmphlVLFG3pj5tzAPr8iV8cy/H9ySL8g51+L6P2eF08eRnt1g68SBVFNgGNDTpOZPomvNzZuW7tklilpbQblJUU4CmyX/XfA7IeJmGucGDqXA1qbGTEI66YMhBidlhBDuFHrFXIte1GR+JiPDmjMu1fPYZ3g+Y/mbjl3bF/a+ITMuZOQt89MiQ1x+X3LygXIHC2D3eePH4S5/j0qyoPdhaTgJ4dulDo6dmSkB/uVVqtZszgVlgTdChRmzZ0c5dH19vWLrLIEsJBTh4VPSAhCVVby9tWzCLdOTx5aiRIlQEZMcq8RkRo1Oa5UGb8ATcQYyKNlgRutltzFtEoMYYURI4O6mIgpcoQY4NqFE4mBznChSM4TApwmJAaNiHCfMiw8/9JpXsMcOq0mNSUGrXA3/xItMGsExNPj4gKmj4wkIZI5Du3ciEMId3GsYvOKeaAcboCvNzaii8wZH89XbIIcC90IphU2gBW1FTs2iFGZQgDCDK/KidEZ1SqDRqNXq+H2CSv4gdxxYoDP5cWIfy6dOgSTpdfDMAr5oxWcP74fRmzFvCl83RwKuWxoSH8ECHzd1DpI7xEOrV6UylZt4V5+HkzriQPb+Xpj483Lp/17t0PYzdetgxxFIa8bFx8AXl8/Y3cE/lFiyDgL66ZMr4e66LXQGJW+ro7/oHXEWIVep0GS//Du9cvnjiF5fP3iMQoRz4wZ7As/UcTjBSke3r6KyGpTZtNtNAZERxHunSpKi7GMPb96VvjyycOXTwuxAEGGy2JotVJJbt0PCdHr+S1kuLQJCYFI2oXnqs2g8G4+YhlEz/bcnbQTVomBoM2R0DDwqmJiYMoQKMPts9ptQkzhvZvk9kysD9xpJKL+ACdkzu9pQnP26F6vbt9tWSVEYmaAR5kxKirMtaM4+wFw6rD+wkP4c0dz0a9jfXogrWEyqN8f29YtYVtPH9rt0+17pKVsFbhx+Qx09JjtOFuMnDWLED0f2rWZr38xbBJTq9brEI9ZEqMjj50hChqSsdpfSAwaNH1iEtJppMqrF83IO334zfPHtVWf2VMT/J08NDTaoysLsSyxY8MyNIro7gCHQlY3JLjfxZMH2CpcyKunhUhTBEE0RW88kyvUqFXQD+il8KgGV46zinLvXPKJB4cCLDVDVlc7OsYbZvOT6U72F8IWMYibhTnDeFXuY/T0rgwjRqZltb+EmMryklFRXoFOvyFItTpo6Oq5YwP+/L+Isvi6OVhcNGVomNri5mBtTRXiNEnS2gxePH6ATGjftqahBG9fPoFWITpnrSC0xJHdW5A28RUTcCb+vdoh97IMQFoBCTEsyCIeHYGZhk+0w6syYrRw/jSJIc+Y24KYNy8ex/p0j/HqLjw1keDBrasHtq8vL226pUZBTquyvHRo6ACEtibHawalQjF9ZBQ8Fl+3A6cO7Qrp+wd7tsawN2eNV9dvzxzezdfpcaHiqaOjqz6XsSIBK+ZPQcppzzCBFiEmRmCFiVZrlRh6H1NJNUYm0305McjtYalCB/yFYPf9m+e81A7ALWfMHOPd7Xtbt1tw6lnzJhe9t24AzdF0kVvXZAwLc60z6S6OMm1kZPjAjh/esPuPvCYCk+kjI8QPh4Dy0qI4v17Dw93qa6t4UWthnRji1DVWiMEysWOEGPKKrEwu9jEOZP5iwJcgIkoKcoHSwO1vypz7pOAOu61UU/0ZHiIjNQUdf/GM0Uf2bIGTEG5FlBV/SAruN2/SUDY4DWg6UxOeFdyx836+GBsz02ePjddpuSOB24jy7Do5eZA4oEc2ilxncepodljhacLJgzuQ1uSsWkRrtR6MmF2bQEwDKEEjs5mIsKDTkes1IwbhMyOGvbssk8OUkcmG5HJtq4l58uD2oH5/zps89P3r54umjwro8wt8RkqM99xJycmD+iMuQoQ2MsItwd8JiUWwy+9Thobi4pk3qq6sAK90N5akcOh1uoqyYhjMl08KoD01VZ8lNxPBHPjevn7p2oyZSEpY4a6NWasXztCouUIgHcaZSPzc5/KSWJ+em5oedZNzQJw9bURE6IAOb/lA2VbCRMx1vbGRUWIStR5FEo1BZ4WP0Wg5MRA2CxQh5kMriYHzTwx0HhHhxjKGZwV3N6+YPyExKM6v9/RRUUf35hR/fNfQYJTX1z4tuAuLPzGJPIFOCHDKzV4lGXTy5sWTZXPGb1kxn+nQp/evt63NgDqC2rABHUB/xMBOMd7dh4UPnDk6dsmsscvTxiPuSh40ILhveyjryvlT60QmCOH10b1bBXXcuXE5nM3hPUJATNrl0T1y53TP5hWmIlp4/ya618Jpw233lpYhEGMwJ6a+TkPnjzUnxmBsQFRGAjM156aOTswFZ/Ppfe1gQsxiR4kB4Nt9e/xIhsKYgJhVJnrkV1FaJNwfMxgMzwrvZ82bNGd8guAJPrx9AYsX2v/PUdGex/ZuJcN2GhrmTxk6qP+faROSslcugPe+cGL/0T3ZSEJhf2aMih4V7TU8fOCkISHL54w/ezQX7oHt6tyxfdBdtiyrr0GfYMtgKCN1NBkLb37TKO/MERQiTuPrFIgCfHv+eOtK64f9WyUGDgYBF+GEglcFMbB3jBhyj1ljVKkNILCmSi2razUxZO9Q//QJSdAD6AralG0AEPxsWJ4+ItID3TnKsxssibXH+A37t60Lc/1rXHwAmsyUupPdVn8uLxM9HpUAflupkAsKwXD13HHvrt9ZPihjbQCjh4wVmid5QHfywHaYWVHkRsYyRLl3mZgUrNG05kURwAYxZE5api5mxDBWIGAFnkZDnQ08jUKh//SBEBPg4GAMCnKAzSsXDOrXAV1v1pg4duseQM44LGxgzupFJw/uXDRjlFeXb3PMnSpYXDFvCtTi+L5tbCiMGI40CjmHl88KsavslXyMICB+F4CZKSju2Dj/CPfOkpd4Th/eFezS/syRJm52rl8G08fGKbYCtjQGbW6TGJbKiKMAjc5YSueSATHvHSaGWAnEyqOiPMFBlEfXYJfflsweezc/Dy6EDckEGoxGBAjorcjYWQlwcOcmuIeCu2TwlRjosNmrFg326ckGoQv4XF5KHmvmrIGD2b3R7E5BdWV5UlBfBFqM4LrqKvac2PJud3lJ0Yhwt2iL1wSgZ5HunU4f4tzUVFUkh/QbGupaV9Oa0FlMjDBppKyeOBhOi5gYUEKlQRiVwYnRGsqaxpW1hhik7qOivbH84e1LeG+kAhFunT++fckqMBR/fBvm+jfai683NiL+getmATFOFLbr5uVzS2aNQcqZGOi0f9v6+lriqGR1tRdOHEibkIjWBJHYCufMBmwywEJOGx6RFNwXYR5WEVCNiPCAWpw6uBO/pfrU1AoAzmRY6MBoz24IKXkRxeMHt5Dwmp55NyK+h9LszVnNVh2CFWJqyct7groAvColpoGJJTFMY1pHDIC0zqf7jxdPHWKrcACvnz+qq6mG27997QIk7/QRxAhx/n0iBnZ8QYeTA3uzV8O4I+6aNyl5yrAwBK8Rbh2RcMD0sXi6vq5mz5YVUAX0faQmB3dueHz/FlwXtHNWCn9GqVGroIuh/Tu8ekYeRMKQRnl0Qbxuyiib8LmsmDENFH94MyLCPXxgJ9PzIY7ykk9zxsWzUT5yWd2oSM+EAOfKCusDdJqBhBgmNIPhrAC86j9KTGnxR1wAYtlXz8xubSEejfbsEu7WEennkJC+s8bGDfbtOTk5lL2bAR9z4fiBzPSJGTNTEBrAxL8zBVTA5TNHoj27Jga57NmyUvwQDFiEbN698+tnj0o+vYP5Qsh7+xp5voneAEWZkBRcRwcOSBQF9EOxhBF7ZcUfxw72C3L57fzxfayEVYcF3rlh+bmjxIqeOrTLs+t3CLXJBkcgEIMUhWgMeRrZFI8x8Kr/KDFAft7pQOffYEPEI80ABE9VFWUwUwigYfSQ6/n1ardgyjBqZKzg/ZsXJw/txHlfRLS0donVzD8/7wyOFe/bGylOjHePO/SpM44ydNCAYaGuVZ+tDGG9c+2if892yHVMgRxpF5i+1NExPj1+EEb8CGCBAwK/lBgfZF22RrXZAiNmt4kYoi6mvFIArwpiwAQoYZ5GQoxpIjmHE0wxjuZmo9Hhb9C49GWGp0gFHt2/pZCb5epwGIgCRkZ5XDl7tLa6EnYPoS+aNf/iKajOoP4dpo+IEA/aQ6Z5++p5JP98nQKB3MSkoMy5k9nNU1zngqnDg11+f/mE20lAeAQALRkX7x/r3b20mA/fFaBUyHBQry7/gvNTyKy8eoju4dXtW+G9ETshJgbZvkpF0gDGhwBWE/jGgDwGxGh5EqPWkFuZIEatEeaSaTUx/DBwJIP6/ZEY6Dwy0iN8YEcYmUCnX+L9+2zKnCd+LvLyScHcSUNQAZ0xJdp7VJRXnF9v+AZkjpdOHTLQbAbh0OlDu0BSuGvHgN4/DxrQYfWiGbZunZ09kuvd7btDOzeyVcRmG5anCeMRyRuzXb6VZJECDAY9gmz8HH7u4xuzgAWQ1deOiCBvslk1j7bATdnm64aGRrmcPE62BK8KYth/KNLrjUpQItPU1ZOb/2pNQ1nJFxJDTPOd65cQU4X0bT/Yp9fC6aPOHd//6P5NNDSiWxQipkJWLx5PBf+MgPjQrk2Hd2+G9hR/fMfKK8tLdm5YluDvFOT8++TkkN2bViCKXThthHe375fMTBGeHwsg45s8u8LZYBlbH96+BjeGsJA9y7l89ij0GC5duK0phjA+FuqOw8X59rKMsJECI29lr0o7Rgw0poGMs6CtbgZej4ITw4BNOq0BWlZVpZYr9CXF9a27VwbAHB/JzYYjxfUnD+q/c2Pme4t+hzaC70XLLpg6DCkCL7UA3AM6b6RHZ8TEqxZMe/LwjpDbGw0GlHh1/e7kQVHS19BwI+/MkOC+CKAnJAYtnTV27GBfpJmggZk49AwwFB/gVPLJ1kstDWyIKHDvxuWEQHKzdevaJRrRE4HPZSVxfn0mJAWJC5uHQAyW0dScDRFYNQYzYgRoiafRf3hXPdiHOH/7Eky+31dPC9cvmwPbDVc8fWQUur8QjwJCZ2TA6vF9OXADY2J9xGmmgIe3r8OZI2zbvn6p5fNgAEqZEus7kr5bXPTxLdL11JQYv14/DwsbCKWEG4ctWrdklnDH5cmDW3F+vWAwH/CRzdY7+9ULxx+aktyi929mjon17PIvROfigHvdktl+PX+6dfU8X28JIIa+UUbOhFNhDlaNwVxjzE+zqlJB75XZqzEKWT2aAK0c49ltbcbMp+ZzXFBKrLcCWh++BFrF10VATn549ybL14IQVSOtQbCHDGb+lOHkXmekB0kznX4ZGeW5Z8uqijIyjEZytdcvnkIKGeb61036zjtg66wQWcBa8hWahGWvWgTvCE959mguK3z+6H6wS/sloqy2eTBiDmwnD7AZExKwagzf8LImNF2MvF4V7786sLddxGg1moXTR/r2/BEXgKyNl5qB7BaOenPWXPjz21fNZsYoL/2k1XKbgCQOuYLonSYOuCL2+GBiUvDoGK8hwf1ifXqEDfgLGjA2zj9tfMLuzSsL7+ZbHcyGiA6pKxxGLCJpmt80j/evny+fM4GvmJiDO0S4ETqgQ2b6JESMKIF5hCcTXstqHpSYVE6MhedHoZ4+LmOwJIYD2+prlfYTc+PyWd8eYKXpdqEFyD6RBMDzzxwzGFZ7/ZJZlmNT3r54PGnIIPhbSf4IqNWqTVnzVsyfsmFZ2ra1GYd2bb587tiDW1c/vn0pCb4lKLx3c2ZKjFfXbycmBr8yDSXgjW0D0P60CUmSIQDoK6OjPRMDnZCBjohwL7h34+r543CiZh7ONsyIMQdKEB4j5qIVCdqMmB0blsHZPja/0dQMEM9AvU6L7qsDyLcRp8X79YaJ4kWthV6vh9e5fe3C0lnjgvu2h83ZuDxd9D5N87wQpE9MMt2baaq8auH08QmByGPg9kIH/LV09rjBPj0XzxjNNzcLW6YMawidFQpdfb05MRb8EWCbQ8TgsoNc2gu3vOzB3EnJ00ZE4KSwjC6/ZlEqWhD9Ef5m65pFFmNoiBl8+bQQ5O3amLVxedqKeVOQAGalmwtK5k7KmDF6Kr2Die4MSnCgx/dv8b3YQQnD6oXTEXGw5YI715nTupufB+OJ9Lbo/eu08fA4v4KeUVGebKKI5mHbx5BEhXzISNYU9JO7y8L4TDGwzSFiNmXORSvYrzHAoV0bh4cPxAISeATWgX1+OXlwJywY2hEx9GDfXlnzJiOTyDtzBGkNaID1COn7h0+PHxFfwIGHu3WEt7ciAzvB7o8Id581Jm77uqXm82zZywpwNDdn9pg4tnzp1OGTB8kwaLVKMXTQAKTGWEYrXT5zeNqIyGHhbp/tuKdpSQz7H6yQT0rReRZZTeAb9p6fRou8mPkj7pWwzUFi0mO8utvpBhng4UdFex7Zkx3p3hl9T3gzD1k31ALKhOQDrohIr58H9e8wLt4fUR82PS24U1L0vqz4oxUpIX/LS4ssbrs5QAkDlAO5PXsc/vblE2Fc7uaseckh/YUQA2dbWVHGWqx5SIjBH8GCUVaIsJoAuVfGRKUW0+MwMZUVJZI7lS1ix/rloa4doGfIDyx/ixgMSQNSRWRCiG4RJmlNA1z+awA/F+XR9RG1gTqtZlZKLPN8yHAR3bGbpA5BTAxgMBiVcjImmU5FSkRulRgiWjIkQ6slxg3bHCLGUVRWlI6IcINTyVm9yPK+SDPdr+We2UZQKRWwtAe2r2OrC2eMOkofl+FsR0d7Z6YJs8vZCzExWi35min5Lh61YEwUcjExaj0RjYHc/NcatWqjhgp0prZaEe+3xqHZl+wBLhh6AIcR6dnl0qkvmUn0H8esMbELTBN35WavYnfegF0blyOFQtTHVu0EI4ZNVkqdikY0UyyfxZ/VBMhEchqNgT75b2AvYzIxGNGp5eReWe9FbULMiycPF6eOnj956LBQ10CnX3GRMNx8278rtqxYMDSkPxvHU3A3P8arB5sIoOjDmzDXjhdP8oezdgLEkNv+m69D6aEolBIysSKjBCIXEwPnw8ZjQDQSYioV5O5yG2nMkd2bhwT1nTEyCg5cPMeXHV7zvw3nTuxDtP36OXnqA/1A7pKzahGCC2SpCQFOi6ePYtXshImYfBMx5F6+wIqUGKVKr9UxjSFDy0xiQHZRWUWICWgjjYH/lIzX/vfHs4K7Qc6/XaKT0xbeuxnn12tQvz9ivLtHeXYJ6PMz4kaHupWYGImiyE1f8eFVBedPiIGDMRED44asr4pozJq2IuZ/ImqqKqAlK+dPRWyWPKh/lHsXuJysuZMROuNvQUuTNEnAidlCTBnIEIgh3NggxgilIZ5fIEaLCLux8jM1ZeSZ/38oMXq9bsao6EiPzsi0Itw6Xm1p3pPmIRCDZTExAitmxFD9ICoCIctwMJQYqEwZn0iu9YMx/hdg9+Ys727fx/p0z8+z/lK8/WDE7NlCZtC1pIQJqwkQYiBsRDko4avgyTQS8z+cGGT4eacPt8lEGWJiGA1seIVYWE2AaQx/z48EAnRUhlxB5isTfW7RgSeY/2b4wrNqy4symbImYiyF1QS482evk0HIC390WaM1lDcR45CPafFiUOHfkEXhrP6pc2ueGAUaXyG6icmIUSi1ciWZo6yqSkWnXtLBlJE5MVv7fsx/Euwlshli2FSkZsTAjsHBwHaBjNpa9efPis+fVXV1WgTQDhFTX1t9ePfm3OzV+3LW7tm8Kv/iKXYn1PK8jUbj9Uun9uasPrB9/YHtG/4xWb83e/X5E/uFG3GF927kZq/ak73qzrULknOCC8H54OQvHN9v+aaHXqdD8l9T9fntiyfYya2r508e3Llv69rslQszUscgZbbnWTVglRimKNaIIRNisKkXtJQVJYjBgkptqKig48qQ+dvx0YU9W8i0WOGuHcNdO4UN6Bjs3B6XyreZA2k/0rRBA/5CzX9UQvv/FTmw81s6twaaNTmkX3Df9iH9/oj16VEqekKKmHjqsLCAPr+Guf4d6PQri74MBv3Zo7lrM2ayd9UmJAWPiHBHth/j1T3CDRf4NztEhFtn/z4/b1iWxnbVPMTEyDgrTZRYJYaoC4wYpQTEKCorlXV1mpJi8o0y8uKSHcRsWJ4WOuCvhEDnxAAXSJxP78E+PYUX7MQ4f3yfUDPB3znas3u0R7d/QiLduka4dmJv+Jd8eh/v7xTv3yc+oE+sT0/2FgCDWqUYG+cf49MjMdAZ3FygQzWRWoI/n+4/BLu0H9S/Qxi60cCOke5dojy6RHl2bTqKZ7eAPr+sXzqb7ap5gJg+7VL35pC0VKWik8KKKFHIibCawDdqOqtfXZ26ooKpC/+cKTzN+3fV7FW/969bjso2Z80Lc/0rMYATkxjogitZNnsc3yzCpVOHwl3/TgxwSvB3Sg7pP2Nk9MyUwamjY79EZlIRFtjy1GERS2eNY8/5S4s/JgW6xPv1ATdxfr1NH+ohgJkanxgY690DJ49zvnT6CAo1atWK+VOmDAsj+0+JmZmCfcaY9hzDDgqBMqEO+wBIiyDE/DTjoPAEk023aDAaDOSTJXqdkb1UzkCIAV2VlURXGCVWiLEjXKbEdGgiJsAZPRQ588M70nF1jBhiFrx7TEwKlsvqcI5GnGCTEAg/oLMSirdaEeF9V0DYG8wRL6LvVyQF9iXE+DlZIyYAxECJKTFNn20ibcYPYRQOQZqUgB0CTSl1orbAiLH2zB/eGDthwkGIgdWqqDBjpS2IgdI4g5hZKbEw4rwShaAxsd7dJw4JYTfVrQJXzpfsQzP16+tqxMSIB3WqlQpbxEhBmrCpBziK5ogxgdUEvmHeRcIKpJXEwHMEusT59sbFJwURbkIHdLhwgk+WxCDSmO4Tk0JMk5JzgMXbV8+vXzpn3uTkGaNj0icmrZw/7fzx/cJr5pL+Ca9+9tjeVfOnzZ2YnDoqJm1CUtbcSScP7Kwo4e+SAx/fvjp1cCdMGYxnvD9Uuc/RvTkIrm7knS75+E6n1TRPzMe3LxGDLZk1ZtaYuFkpcYunj96xftkL0eQ0FidlHY4RUy/TMG8vkVYTM9i3Fyzv2MF+g31xqU7R3t1SYn3Eo3vMTZlADDmnl48f4rdhJLT7O8qja7RX1yjPLuED/wa7o6O9RHMtojKpf/X8iRERbgglwgd2inLvGuXRDb8Kd+uEkuSQvkdyySsWuNopQ8OCXX5PonoMepgqhw38O7DPL2njE5VK2cQhwVaJAWdsplWcAIIxuPpoj+6Rbl0QC0R7diWzOzjylqxjxNRUS70Lk1YTE+nWaWNm2rlj+9C+iYFOiUHkQzrid3xsEEMm1YsPcML1YycInFAndMCf2CcUCzuJ8eqK4AIdn1UGkD2Ag2ivbmzSmvABHREmRQzsFOHeCR0CewAZ7OWY0TFeg/r/SVnpC4XG/tHECLGC+/4xKSkE0cGk5BBLYrRazdLZ40L6/hHn3xtni/qIv0kI7tYlgX58Y1C/P6eNiGzmPQUJHCNGwocgnBif1UH2JZgCMQjtV86fAouEkybvSxLL1ispqC/cL6tplZjP5SVkFIAHeb8y0qMLlAzm4sT+7bk5q8l7Le6dE4Ogiz1jPLuyMYVkBqXhEaScsNhj+sios0f23LuRl3f6SNa8yWh32CvE67G+PT+9f31s79bUUdEm5wdj6zRnXPzCaSOgLif3b4daTEgKsiRm16asEDIA0RnnH+PVbdmc8TgfyIp5k7FnnAw6BBKyrLmTWf0WQYlJPbCdDLvhPFiA1QS+saouELHGOEoMrgEld/MvofuDALQ18gNhOh2rxGzKmgfFQk3YIsmgYaVcljV3SqR7J2xFw5Fp3ehr/2h69FzEfpYDnbeuWQwVAc2Bzr/fukJek/hcVkydvxMR/z7iSfvIRIAWPub9m+fYLTwlIdi3l2TG2tvXLhDC/JgmdS60mIHOKkzEmGkMFpnQ0fx2EFNXr/3wvqaVxKTxcfIZM1Mi3GDQnJHWQXvY1BOXTh0UE6PX6WCph4UOHOzTC02A/NzypQvEQvR9yR5oJrRXWfEH6B8qgxXsB+VnjuxGx+e1gYaGl08KnhXef/m0gE23VFbyieYxYIUQ8170pQRJuJx3huQx29ctYZ/IgIeD6rCaYhzLzUFlXBrpcxktTGnLAGKQ+edmk8wfwTBSe63GoNUadDqSxCCVIQMtTPim0hoxiNPahJg3Lx5D5eP8++AKoT1zJw1B4eWzR8XEoOTBratEt+AYfHsi17t+8VT+pVPXL54U5PbVC7NSBkd7dUfboSHQdga9Huk6MZVBhHX4oanDwnAOCAcsXxMAxHlMvH9vNmEqg4SYy/QxJTJK7BwlyPN3blh268o58fncvHJ239Y1MKEJAc5wcsgxrb4yKIGYGCHhF0RFv9zDagJSHwNKmLQJMcCmzHTESCwWwmU/un/zzvWLAjHwvahzbN82xDmoAEE5lAz91Fw6ojVhyggxA/5mc1ZdPnsE4QDaBdyQCQXg/wd2RDgA04/kHN1cnKzYTwy6BRzYqGgvdClySiyykJ7P33BjOC4qwKANDR1gz6vlYmJU5Ds9liLK/K2y0obEwLgn06+KQGnQB+dOSj59aBe6ISdmCCFm79Y10ANKjAtMDdwMuSUlFfJJbfzQr1c7uBC2c7irEZHuYYhlB3YmLevvBMeOlsKBaBjmLPgG+4nJv3QacdqwsIHYD06JhHzePfjRxefjSQXR+cCOUHTLdxMs0QIxKj2E1QQ4MWJKmLQVMcDhXZuRB6DRERQlBLiADMqBs2DKTh3cwTQGzhx5CVLF9PFJZjIhMX0C/iYhjkqfNEQ8i2xtTSXSz6z0SePjA2Bbwl3JrUYSegW5QJlivbu/pvcry4o+CMTgKO9f2yTm2sWTOp02JcYHoRdOCQ5p+ogIdnThfNImJCJCSZ8wBIUwers2ZYpv/9iCLWLUKoMgrCZAiJFQwqQNiVEpFROTgonuB/RN8EfUi55ILBvL/FGh4M51tCbJRr26IQhmv3IUCln9yycPTx3atXjGaLQm9gZTgw6xbgm59Utm2xQRI37H1aqPmT02DtqAk4Qq23mPskVYJ0ZlgxgJH4K0ITEADDf6Ms0hQAkTrjE6nU5WV4skBj0UdizGq8f9m+Sz2GIgooX5ypo7aXn6RKTi6J7IZhCUZ6ZPWrlg6ieLSWW3r8tAE+MQ4Hv+5GEoKSdRGSUGh/DuYfrYE4GEGBaV7d6UBVKTyD2CLlZfGIP/X542ccX8qcvTJojeimoOEmLofX0i4ENF5b+BGMS78ycnI/QiUQBP9IjtBjEsj9mycgHyGLRdrFfP0dHeT0RzulVXViydPRYZCbL64L7tEU8jwj6wY4N3t+9wrCDnX2eMjK6hc18J2Lg8DZVxCPieRbRZFbK6MfT72+QM3TtvWJ4mGB+1yuwmZh7NYz6+exXv1xuheUJgH9Tfvn6pcIcCuHbhxGCfHnBjuCLv7sI0DC1ATAxYEbSETEjCl0U+RsKHIG1KDMmbnj9+wBJyq8RU0sw/yqNbUmC/WC+EoU4ZqSnb1mYgLR0z2Je4DeKWnJCKsy+YP3l4J8K9E9oOTMPVj4vz37lx+YWTB08e2LEEkTViDXqIEJc/Du/mc5HirEJd4ckQ2hGlmTM+ATu/f+uKXq8TEyNk/lCa4L5/4KA4mUi3LlOGhm3KmpuzejHiFxhhcIZuhBwW3YhNidYi2oyYj+8dyPw3Lk9nDhz9a6m152PA+qWzqVo0ETM+IUh44bjw7o04397gFW0H/kAGeZ8PMQ91woiRwMqi6SNheVh92LRgl/ZUCVyI26excrhbxyj3zoieYTZD+v05ZVi48EIszBcCX+LqwHEASVD8e/88Z0KiWq2ckBgY60OSJEKMaYI12M+MmWOgozCA+AnOFv4mlN5dBVWojFPFce9ZGF5bMDNl9GMKTMTLrCZgkxiZTPvJEY1BM/n0+AGOxLfnT1np1m8fIdgfGeER3Pd3mgp0DHT6ZUJiMK6fb25sfFZ4D8ka8h4YIugNOj6aI9K9c+iAP+P9eqG3Smb7P5qbM3TQgFBiUjqjJpoJHT/aswv2gF+BRfZGq4AbeaeHhw8kj4pdyQmAmNlj47Ua7YTEoEBn8szfr9dPl880zRav0ahzVi3CbrFDEIkuAon26kqHNvw9fWSkPZ9wEmCLGLGwmoAVYmqqicgdnN63orQIfmJtxsz1y+ZYfdTPDNrHt69Qbd3SORuWpa1ZBEti+eleZd6pQ5npEycOCRkd44MgeOG0EUizhTkb6e0kcnOJrhEbeHz/NugoovCUGO+xcX5p4xOyVy0U3uiUAGbn9OFdGzPTcAKrFk67QT9icuvq+dWLpq/NmIXuZfmViNfPC1E+Z2x8Sqwvwmi4tPVLZl2/dEqYMcJOtJ6Y6mplTbWSfglQI5fpi+gssnYS0+bQatR1tdWWH8SwBdRHmzr0/UMTOMctQi6rIzPfmeb/cRQghgzGyCaDMSR8CMJqAk3EUEVR1lQRVv4diPnfB0ZMrv3EVBNWqK5Uq2uryBdNvxLzT6AFYhCbqUXEcFbwl/IhyFdi2hy2iCGvvpiE1QTIo+WaaqIlX4n5p9EiMVhmNQGqMZSVr8T803BQY8z5EATEIFz+Otq/DcGI2duU+YuJ0Ws0ZIHVBL6pq9HUVElZQQnyGNOHfb4S0zYwaQwhBhyYE0M+EGtGjFyurZYqDVbVKP9KTNtCTAyJwcSUUFbMiNFoDMz5U0VRY5l9al5EzD8yl8x/ILgpo6P9QQxnxVxYTeAbncEoq9dUVzJuKCtUFPKmr/oVffjSD9p9BbB6wSnhloygIhJhNQHyKSzkNSThr2lipa7W7HOLLx4Xq5RapULzVVotaMDlc447/cw1xoIYrJISxgpAppA3GIzyei0SGkZJrfhzi36rfLsviPdbPSR43ZAgsaw1iaTcqlivnBS0FmKtnIikUBDTT1opbOfNH0Ik0p+bpJkKwiZzCV4X7rp8YIe03GwyAQOZWEFghZBkgxitRi9mxURMbXzAGt+eC/17LvTrYSa+3R0R1Bf/VhBhq1BTLJLKTLovELZaiqn+IogfFWFBJE27ZcvCqhURTsaW0EOYi5U9sEMgjPLoNDc3x8KUiZYZKwAlRt9gNDQqlboa2DETMXV1mqoq5eOHRQ/vfHh492MBl09UPhbc+9SMFJrLo/tECk3CVmnJR+z/1dPSl9YEmwrvFz3iwn6Ckk9PC4tfPSt/9azMqjwpLH5UUPToYRF+DnkCKSi2kKKnBcUQLBApxKotKcbhqJRwoT80FRY/KyyxEBRSeVRChC48f1T8/HHx80clOFx5Sb1O2zTLFRGR9nBaTBoDYsjf+nq1mJvaOjX9PgZ5rVkQ8pYzmTrDutDZT4iwGTbI/DRao07bANGYhK2Sk9NBV23ecjcYG7X6Bp2+kYuugYwjpVMPNgOdoUFvhJCfQ4w2pAFC3lUjQkcN2xTA3qcC9sGgR3bJ+OCKQubAoH8hvJJADOHGSL64AINWgyhA4Eb4JLAgpq+eWQr7WI0gsnptvUxdLyMLZNkkdBWF2ISgXEPH7PJzEItKqa+vFyaLZDPhaXQ6MmUnfdMOf5mwtibLSpWefo9QOvpULHTQEBmbgspsoWkkkURUkKbxK+bSlLc3IzSf11ERGa4maSKGDWKmX1zmIF+OFQTXrEKERpSG642dlDAxI4bTICyYyKhX4y+b2U4mJ3910Bs9MaeCQC1ADC4MFLKa4A9/cQ3owuITpkJIQrlWZ7D6grYgJhq4UGLMmTAJbVZCAKNEZf5YvkUxtbvQ+qYS0EMYIqtMS5gwXSHckO8ucpgRw66QORszSmrVaGsJDWIRUyJWDrFQRQElTGhzgxs0N526ViIgBmfJiFFQVtQq8uVY87NtEtRXKHXNsgIRWGniwIqQxhU0QxCzpm9eOAemdufSZLh4CecDisKJIcJpsSAGgqtvUNAvLnNWLGgQi5gS1vqwXVykxKB9RZRAdSgxahgzA5/7URCUwJlRVsCNFu3FjJXF2ULITNG4TmTEEjKYMCaU7L36logxNa6EFUhTu9sS1twmsUkMRMyEeP4+CKeFEmP1ghuUhBsHWKEKQYkh5suMFWrEOB9ikcnAohbG0wox+Ks1yOXka+loLxuUEIEawRgqbbAiciTN8EG2imkQD/RqRtDEJCASrVpRFDDEzJco9CIcmCuKIJwWEzHSq2VsEZtWizjNLBYQxGTlyFc2xSTV1WmpNPFHlEMqzOJp6uo1CiW8g5QVmCbEYERXVPpmWMEmg94IAti0EoKAJ2LW4EggCkG0JjEjjxGDCiqlgQu44cuMUUEEFqkICxC1jgqWBVKpmEooJSz6Ys6GrUqF0wJi0ONYXGhV8Hvm+iQiOiEWRgsLliJ4PInwCqAFQbMgrE+QFidftWNfHZCelVjAInGbJKRpEvo5PLqsI7bCJCi3EHEFMjeFA0LCd/4yGA3lyYKoUCLmAQ76k/kqF04LiOH/f8W/FRob/z8F/b0hc/taEQAAAABJRU5ErkJggg==)"
   ]
  },
  {
   "cell_type": "markdown",
   "metadata": {
    "id": "Pg3BoD_Kl0Cc"
   },
   "source": [
    "Author : Manohari Wijesooriya\n",
    "\n",
    "Date   : Dec 08, 2024"
   ]
  },
  {
   "cell_type": "markdown",
   "metadata": {
    "id": "k51AHuzyTXML"
   },
   "source": [
    "# Project Goal\n",
    "\n",
    "To create an intelligent HR Chatbot that provides accurate and user-friendly responses to HR-related inquiries based on Nestlé's HR policies and procedures."
   ]
  },
  {
   "cell_type": "markdown",
   "metadata": {
    "id": "IvYjEWhjS_Fq"
   },
   "source": [
    "# Scope and Requirements\n",
    "\n",
    "* Identify the key HR-related topics (e.g., leave policies, benefits, onboarding, grievance redressal).\n",
    "* Understand the chatbot’s user base (employees, HR team, new hires, etc.).\n",
    "* Define the chatbot's tone (formal, friendly, etc.).\n"
   ]
  },
  {
   "cell_type": "code",
   "execution_count": 1,
   "metadata": {
    "colab": {
     "base_uri": "https://localhost:8080/"
    },
    "id": "r4yI4vQ7M4y8",
    "outputId": "28d3eb27-1aa5-4d5d-b7a5-af9d86a45155",
    "tags": []
   },
   "outputs": [
    {
     "name": "stdout",
     "output_type": "stream",
     "text": [
      "Defaulting to user installation because normal site-packages is not writeable\n",
      "\u001b[33mWARNING: pip is using lazily downloaded wheels using HTTP range requests to obtain dependency information. This experimental feature is enabled through --use-feature=fast-deps and it is not ready for production.\u001b[0m\u001b[33m\n",
      "\u001b[0mRequirement already satisfied: tiktoken in /voc/work/.local/lib/python3.10/site-packages (0.8.0)\n",
      "Requirement already satisfied: PyPDF2 in /voc/work/.local/lib/python3.10/site-packages (3.0.1)\n",
      "Requirement already satisfied: openai in /voc/work/.local/lib/python3.10/site-packages (1.57.0)\n",
      "Requirement already satisfied: gradio in /voc/work/.local/lib/python3.10/site-packages (5.8.0)\n",
      "Requirement already satisfied: chromadb in /voc/work/.local/lib/python3.10/site-packages (0.5.23)\n",
      "Requirement already satisfied: pysqlite3-binary in /voc/work/.local/lib/python3.10/site-packages (0.5.4)\n",
      "Requirement already satisfied: pypdf in /voc/work/.local/lib/python3.10/site-packages (5.1.0)\n",
      "Requirement already satisfied: langchain in /voc/work/.local/lib/python3.10/site-packages (0.3.10)\n",
      "Requirement already satisfied: langchain-community in /voc/work/.local/lib/python3.10/site-packages (0.3.10)\n",
      "Requirement already satisfied: regex>=2022.1.18 in /usr/local/lib/python3.10/site-packages (from tiktoken) (2023.10.3)\n",
      "Requirement already satisfied: requests>=2.26.0 in /usr/local/lib/python3.10/site-packages (from tiktoken) (2.31.0)\n",
      "Requirement already satisfied: anyio<5,>=3.5.0 in /usr/local/lib/python3.10/site-packages (from openai) (3.7.1)\n",
      "Requirement already satisfied: distro<2,>=1.7.0 in /usr/local/lib/python3.10/site-packages (from openai) (1.7.0)\n",
      "Requirement already satisfied: httpx<1,>=0.23.0 in /voc/work/.local/lib/python3.10/site-packages (from openai) (0.28.1)\n",
      "Requirement already satisfied: jiter<1,>=0.4.0 in /voc/work/.local/lib/python3.10/site-packages (from openai) (0.7.1)\n",
      "Requirement already satisfied: pydantic<3,>=1.9.0 in /voc/work/.local/lib/python3.10/site-packages (from openai) (2.10.3)\n",
      "Requirement already satisfied: sniffio in /usr/local/lib/python3.10/site-packages (from openai) (1.3.0)\n",
      "Requirement already satisfied: tqdm>4 in /usr/local/lib/python3.10/site-packages (from openai) (4.66.1)\n",
      "Requirement already satisfied: typing-extensions<5,>=4.11 in /voc/work/.local/lib/python3.10/site-packages (from openai) (4.12.2)\n",
      "Requirement already satisfied: aiofiles<24.0,>=22.0 in /usr/local/lib/python3.10/site-packages (from gradio) (23.2.1)\n",
      "Requirement already satisfied: fastapi<1.0,>=0.115.2 in /voc/work/.local/lib/python3.10/site-packages (from gradio) (0.115.6)\n",
      "Requirement already satisfied: ffmpy in /usr/local/lib/python3.10/site-packages (from gradio) (0.3.1)\n",
      "Requirement already satisfied: gradio-client==1.5.1 in /voc/work/.local/lib/python3.10/site-packages (from gradio) (1.5.1)\n",
      "Requirement already satisfied: huggingface-hub>=0.25.1 in /voc/work/.local/lib/python3.10/site-packages (from gradio) (0.26.2)\n",
      "Requirement already satisfied: jinja2<4.0 in /usr/local/lib/python3.10/site-packages (from gradio) (3.1.2)\n",
      "Requirement already satisfied: markupsafe~=2.0 in /usr/local/lib/python3.10/site-packages (from gradio) (2.1.3)\n",
      "Requirement already satisfied: numpy<3.0,>=1.0 in /usr/local/lib/python3.10/site-packages (from gradio) (1.26.2)\n",
      "Requirement already satisfied: orjson~=3.0 in /voc/work/.local/lib/python3.10/site-packages (from gradio) (3.10.10)\n",
      "Requirement already satisfied: packaging in /usr/local/lib/python3.10/site-packages (from gradio) (23.2)\n",
      "Requirement already satisfied: pandas<3.0,>=1.0 in /usr/local/lib/python3.10/site-packages (from gradio) (2.1.3)\n",
      "Requirement already satisfied: pillow<12.0,>=8.0 in /usr/local/lib/python3.10/site-packages (from gradio) (10.1.0)\n",
      "Requirement already satisfied: pydub in /usr/local/lib/python3.10/site-packages (from gradio) (0.25.1)\n",
      "Requirement already satisfied: python-multipart>=0.0.18 in /voc/work/.local/lib/python3.10/site-packages (from gradio) (0.0.19)\n",
      "Requirement already satisfied: pyyaml<7.0,>=5.0 in /usr/local/lib/python3.10/site-packages (from gradio) (6.0.1)\n",
      "Requirement already satisfied: ruff>=0.2.2 in /voc/work/.local/lib/python3.10/site-packages (from gradio) (0.8.2)\n",
      "Requirement already satisfied: safehttpx<0.2.0,>=0.1.6 in /voc/work/.local/lib/python3.10/site-packages (from gradio) (0.1.6)\n",
      "Requirement already satisfied: semantic-version~=2.0 in /usr/local/lib/python3.10/site-packages (from gradio) (2.10.0)\n",
      "Requirement already satisfied: starlette<1.0,>=0.40.0 in /voc/work/.local/lib/python3.10/site-packages (from gradio) (0.41.3)\n",
      "Requirement already satisfied: tomlkit<0.14.0,>=0.12.0 in /usr/local/lib/python3.10/site-packages (from gradio) (0.12.0)\n",
      "Requirement already satisfied: typer<1.0,>=0.12 in /voc/work/.local/lib/python3.10/site-packages (from gradio) (0.15.1)\n",
      "Requirement already satisfied: uvicorn>=0.14.0 in /usr/local/lib/python3.10/site-packages (from gradio) (0.24.0.post1)\n",
      "Requirement already satisfied: fsspec in /usr/local/lib/python3.10/site-packages (from gradio-client==1.5.1->gradio) (2023.10.0)\n",
      "Requirement already satisfied: websockets<15.0,>=10.0 in /usr/local/lib/python3.10/site-packages (from gradio-client==1.5.1->gradio) (11.0.3)\n",
      "Requirement already satisfied: build>=1.0.3 in /voc/work/.local/lib/python3.10/site-packages (from chromadb) (1.2.2.post1)\n",
      "Requirement already satisfied: chroma-hnswlib==0.7.6 in /voc/work/.local/lib/python3.10/site-packages (from chromadb) (0.7.6)\n",
      "Requirement already satisfied: posthog>=2.4.0 in /usr/local/lib/python3.10/site-packages (from chromadb) (3.0.2)\n",
      "Requirement already satisfied: onnxruntime>=1.14.1 in /usr/local/lib/python3.10/site-packages (from chromadb) (1.16.3)\n",
      "Requirement already satisfied: opentelemetry-api>=1.2.0 in /usr/local/lib/python3.10/site-packages (from chromadb) (1.21.0)\n",
      "Requirement already satisfied: opentelemetry-exporter-otlp-proto-grpc>=1.2.0 in /usr/local/lib/python3.10/site-packages (from chromadb) (1.21.0)\n",
      "Requirement already satisfied: opentelemetry-instrumentation-fastapi>=0.41b0 in /usr/local/lib/python3.10/site-packages (from chromadb) (0.42b0)\n",
      "Requirement already satisfied: opentelemetry-sdk>=1.2.0 in /usr/local/lib/python3.10/site-packages (from chromadb) (1.21.0)\n",
      "Requirement already satisfied: tokenizers<=0.20.3,>=0.13.2 in /voc/work/.local/lib/python3.10/site-packages (from chromadb) (0.20.1)\n",
      "Requirement already satisfied: pypika>=0.48.9 in /usr/local/lib/python3.10/site-packages (from chromadb) (0.48.9)\n",
      "Requirement already satisfied: overrides>=7.3.1 in /usr/local/lib/python3.10/site-packages (from chromadb) (7.3.1)\n",
      "Requirement already satisfied: importlib-resources in /usr/local/lib/python3.10/site-packages (from chromadb) (6.1.1)\n",
      "Requirement already satisfied: grpcio>=1.58.0 in /usr/local/lib/python3.10/site-packages (from chromadb) (1.59.3)\n",
      "Requirement already satisfied: bcrypt>=4.0.1 in /usr/local/lib/python3.10/site-packages (from chromadb) (4.1.1)\n",
      "Requirement already satisfied: kubernetes>=28.1.0 in /usr/local/lib/python3.10/site-packages (from chromadb) (28.1.0)\n",
      "Requirement already satisfied: tenacity>=8.2.3 in /usr/local/lib/python3.10/site-packages (from chromadb) (8.2.3)\n",
      "Requirement already satisfied: mmh3>=4.0.1 in /usr/local/lib/python3.10/site-packages (from chromadb) (4.0.1)\n",
      "Requirement already satisfied: rich>=10.11.0 in /usr/local/lib/python3.10/site-packages (from chromadb) (13.5.3)\n",
      "Requirement already satisfied: SQLAlchemy<3,>=1.4 in /usr/local/lib/python3.10/site-packages (from langchain) (1.4.20)\n",
      "Requirement already satisfied: aiohttp<4.0.0,>=3.8.3 in /usr/local/lib/python3.10/site-packages (from langchain) (3.9.1)\n",
      "Requirement already satisfied: async-timeout<5.0.0,>=4.0.0 in /usr/local/lib/python3.10/site-packages (from langchain) (4.0.3)\n",
      "Requirement already satisfied: langchain-core<0.4.0,>=0.3.22 in /voc/work/.local/lib/python3.10/site-packages (from langchain) (0.3.22)\n",
      "Requirement already satisfied: langchain-text-splitters<0.4.0,>=0.3.0 in /voc/work/.local/lib/python3.10/site-packages (from langchain) (0.3.0)\n",
      "Requirement already satisfied: langsmith<0.2.0,>=0.1.17 in /voc/work/.local/lib/python3.10/site-packages (from langchain) (0.1.137)\n",
      "Requirement already satisfied: dataclasses-json<0.7,>=0.5.7 in /usr/local/lib/python3.10/site-packages (from langchain-community) (0.5.13)\n",
      "Requirement already satisfied: httpx-sse<0.5.0,>=0.4.0 in /voc/work/.local/lib/python3.10/site-packages (from langchain-community) (0.4.0)\n",
      "Requirement already satisfied: pydantic-settings<3.0.0,>=2.4.0 in /voc/work/.local/lib/python3.10/site-packages (from langchain-community) (2.6.1)\n",
      "Requirement already satisfied: attrs>=17.3.0 in /usr/local/lib/python3.10/site-packages (from aiohttp<4.0.0,>=3.8.3->langchain) (23.1.0)\n",
      "Requirement already satisfied: multidict<7.0,>=4.5 in /usr/local/lib/python3.10/site-packages (from aiohttp<4.0.0,>=3.8.3->langchain) (6.0.4)\n",
      "Requirement already satisfied: yarl<2.0,>=1.0 in /usr/local/lib/python3.10/site-packages (from aiohttp<4.0.0,>=3.8.3->langchain) (1.9.3)\n",
      "Requirement already satisfied: frozenlist>=1.1.1 in /usr/local/lib/python3.10/site-packages (from aiohttp<4.0.0,>=3.8.3->langchain) (1.4.0)\n",
      "Requirement already satisfied: aiosignal>=1.1.2 in /usr/local/lib/python3.10/site-packages (from aiohttp<4.0.0,>=3.8.3->langchain) (1.3.1)\n",
      "Requirement already satisfied: idna>=2.8 in /usr/local/lib/python3.10/site-packages (from anyio<5,>=3.5.0->openai) (3.6)\n",
      "Requirement already satisfied: exceptiongroup in /usr/local/lib/python3.10/site-packages (from anyio<5,>=3.5.0->openai) (1.2.0)\n",
      "Requirement already satisfied: pyproject_hooks in /voc/work/.local/lib/python3.10/site-packages (from build>=1.0.3->chromadb) (1.2.0)\n",
      "Requirement already satisfied: tomli>=1.1.0 in /usr/local/lib/python3.10/site-packages (from build>=1.0.3->chromadb) (2.0.1)\n",
      "Requirement already satisfied: marshmallow<4.0.0,>=3.18.0 in /usr/local/lib/python3.10/site-packages (from dataclasses-json<0.7,>=0.5.7->langchain-community) (3.20.1)\n",
      "Requirement already satisfied: typing-inspect<1,>=0.4.0 in /usr/local/lib/python3.10/site-packages (from dataclasses-json<0.7,>=0.5.7->langchain-community) (0.9.0)\n",
      "Requirement already satisfied: certifi in /usr/local/lib/python3.10/site-packages (from httpx<1,>=0.23.0->openai) (2023.11.17)\n",
      "Requirement already satisfied: httpcore==1.* in /usr/local/lib/python3.10/site-packages (from httpx<1,>=0.23.0->openai) (1.0.2)\n",
      "Requirement already satisfied: h11<0.15,>=0.13 in /usr/local/lib/python3.10/site-packages (from httpcore==1.*->httpx<1,>=0.23.0->openai) (0.14.0)\n",
      "Requirement already satisfied: filelock in /usr/local/lib/python3.10/site-packages (from huggingface-hub>=0.25.1->gradio) (3.13.1)\n",
      "Requirement already satisfied: six>=1.9.0 in /usr/local/lib/python3.10/site-packages (from kubernetes>=28.1.0->chromadb) (1.16.0)\n",
      "Requirement already satisfied: python-dateutil>=2.5.3 in /usr/local/lib/python3.10/site-packages (from kubernetes>=28.1.0->chromadb) (2.8.2)\n",
      "Requirement already satisfied: google-auth>=1.0.1 in /usr/local/lib/python3.10/site-packages (from kubernetes>=28.1.0->chromadb) (2.23.4)\n",
      "Requirement already satisfied: websocket-client!=0.40.0,!=0.41.*,!=0.42.*,>=0.32.0 in /usr/local/lib/python3.10/site-packages (from kubernetes>=28.1.0->chromadb) (1.3.3)\n",
      "Requirement already satisfied: requests-oauthlib in /usr/local/lib/python3.10/site-packages (from kubernetes>=28.1.0->chromadb) (1.3.1)\n",
      "Requirement already satisfied: oauthlib>=3.2.2 in /usr/local/lib/python3.10/site-packages (from kubernetes>=28.1.0->chromadb) (3.2.2)\n",
      "Requirement already satisfied: urllib3<2.0,>=1.24.2 in /usr/local/lib/python3.10/site-packages (from kubernetes>=28.1.0->chromadb) (1.26.18)\n",
      "Requirement already satisfied: jsonpatch<2.0,>=1.33 in /usr/local/lib/python3.10/site-packages (from langchain-core<0.4.0,>=0.3.22->langchain) (1.33)\n",
      "Requirement already satisfied: requests-toolbelt<2.0.0,>=1.0.0 in /voc/work/.local/lib/python3.10/site-packages (from langsmith<0.2.0,>=0.1.17->langchain) (1.0.0)\n",
      "Requirement already satisfied: coloredlogs in /usr/local/lib/python3.10/site-packages (from onnxruntime>=1.14.1->chromadb) (15.0.1)\n",
      "Requirement already satisfied: flatbuffers in /usr/local/lib/python3.10/site-packages (from onnxruntime>=1.14.1->chromadb) (23.5.26)\n",
      "Requirement already satisfied: protobuf in /usr/local/lib/python3.10/site-packages (from onnxruntime>=1.14.1->chromadb) (4.25.1)\n",
      "Requirement already satisfied: sympy in /usr/local/lib/python3.10/site-packages (from onnxruntime>=1.14.1->chromadb) (1.12)\n",
      "Requirement already satisfied: deprecated>=1.2.6 in /usr/local/lib/python3.10/site-packages (from opentelemetry-api>=1.2.0->chromadb) (1.2.13)\n",
      "Requirement already satisfied: importlib-metadata<7.0,>=6.0 in /usr/local/lib/python3.10/site-packages (from opentelemetry-api>=1.2.0->chromadb) (6.8.0)\n",
      "Requirement already satisfied: backoff<3.0.0,>=1.10.0 in /usr/local/lib/python3.10/site-packages (from opentelemetry-exporter-otlp-proto-grpc>=1.2.0->chromadb) (2.2.1)\n",
      "Requirement already satisfied: googleapis-common-protos~=1.52 in /usr/local/lib/python3.10/site-packages (from opentelemetry-exporter-otlp-proto-grpc>=1.2.0->chromadb) (1.61.0)\n",
      "Requirement already satisfied: opentelemetry-exporter-otlp-proto-common==1.21.0 in /usr/local/lib/python3.10/site-packages (from opentelemetry-exporter-otlp-proto-grpc>=1.2.0->chromadb) (1.21.0)\n",
      "Requirement already satisfied: opentelemetry-proto==1.21.0 in /usr/local/lib/python3.10/site-packages (from opentelemetry-exporter-otlp-proto-grpc>=1.2.0->chromadb) (1.21.0)\n",
      "Requirement already satisfied: opentelemetry-instrumentation-asgi==0.42b0 in /usr/local/lib/python3.10/site-packages (from opentelemetry-instrumentation-fastapi>=0.41b0->chromadb) (0.42b0)\n",
      "Requirement already satisfied: opentelemetry-instrumentation==0.42b0 in /usr/local/lib/python3.10/site-packages (from opentelemetry-instrumentation-fastapi>=0.41b0->chromadb) (0.42b0)\n",
      "Requirement already satisfied: opentelemetry-semantic-conventions==0.42b0 in /usr/local/lib/python3.10/site-packages (from opentelemetry-instrumentation-fastapi>=0.41b0->chromadb) (0.42b0)\n",
      "Requirement already satisfied: opentelemetry-util-http==0.42b0 in /usr/local/lib/python3.10/site-packages (from opentelemetry-instrumentation-fastapi>=0.41b0->chromadb) (0.42b0)\n",
      "Requirement already satisfied: setuptools>=16.0 in /usr/local/lib/python3.10/site-packages (from opentelemetry-instrumentation==0.42b0->opentelemetry-instrumentation-fastapi>=0.41b0->chromadb) (69.0.2)\n",
      "Requirement already satisfied: wrapt<2.0.0,>=1.0.0 in /usr/local/lib/python3.10/site-packages (from opentelemetry-instrumentation==0.42b0->opentelemetry-instrumentation-fastapi>=0.41b0->chromadb) (1.14.1)\n",
      "Requirement already satisfied: asgiref~=3.0 in /usr/local/lib/python3.10/site-packages (from opentelemetry-instrumentation-asgi==0.42b0->opentelemetry-instrumentation-fastapi>=0.41b0->chromadb) (3.7.2)\n",
      "Requirement already satisfied: pytz>=2020.1 in /usr/local/lib/python3.10/site-packages (from pandas<3.0,>=1.0->gradio) (2023.3.post1)\n",
      "Requirement already satisfied: tzdata>=2022.1 in /usr/local/lib/python3.10/site-packages (from pandas<3.0,>=1.0->gradio) (2023.3)\n",
      "Requirement already satisfied: monotonic>=1.5 in /usr/local/lib/python3.10/site-packages (from posthog>=2.4.0->chromadb) (1.6)\n",
      "Requirement already satisfied: annotated-types>=0.6.0 in /usr/local/lib/python3.10/site-packages (from pydantic<3,>=1.9.0->openai) (0.6.0)\n",
      "Requirement already satisfied: pydantic-core==2.27.1 in /voc/work/.local/lib/python3.10/site-packages (from pydantic<3,>=1.9.0->openai) (2.27.1)\n",
      "Requirement already satisfied: python-dotenv>=0.21.0 in /usr/local/lib/python3.10/site-packages (from pydantic-settings<3.0.0,>=2.4.0->langchain-community) (1.0.0)\n",
      "Requirement already satisfied: charset-normalizer<4,>=2 in /usr/local/lib/python3.10/site-packages (from requests>=2.26.0->tiktoken) (3.3.2)\n",
      "Requirement already satisfied: markdown-it-py>=2.2.0 in /usr/local/lib/python3.10/site-packages (from rich>=10.11.0->chromadb) (3.0.0)\n",
      "Requirement already satisfied: pygments<3.0.0,>=2.13.0 in /usr/local/lib/python3.10/site-packages (from rich>=10.11.0->chromadb) (2.16.1)\n",
      "Requirement already satisfied: greenlet!=0.4.17 in /usr/local/lib/python3.10/site-packages (from SQLAlchemy<3,>=1.4->langchain) (1.1.2)\n",
      "Requirement already satisfied: click>=8.0.0 in /usr/local/lib/python3.10/site-packages (from typer<1.0,>=0.12->gradio) (8.1.7)\n",
      "Requirement already satisfied: shellingham>=1.3.0 in /usr/local/lib/python3.10/site-packages (from typer<1.0,>=0.12->gradio) (1.5.4)\n",
      "Requirement already satisfied: httptools>=0.5.0 in /usr/local/lib/python3.10/site-packages (from uvicorn[standard]>=0.18.3->chromadb) (0.6.1)\n",
      "Requirement already satisfied: uvloop!=0.15.0,!=0.15.1,>=0.14.0 in /usr/local/lib/python3.10/site-packages (from uvicorn[standard]>=0.18.3->chromadb) (0.19.0)\n",
      "Requirement already satisfied: watchfiles>=0.13 in /usr/local/lib/python3.10/site-packages (from uvicorn[standard]>=0.18.3->chromadb) (0.21.0)\n",
      "Requirement already satisfied: cachetools<6.0,>=2.0.0 in /usr/local/lib/python3.10/site-packages (from google-auth>=1.0.1->kubernetes>=28.1.0->chromadb) (5.3.2)\n",
      "Requirement already satisfied: pyasn1-modules>=0.2.1 in /usr/local/lib/python3.10/site-packages (from google-auth>=1.0.1->kubernetes>=28.1.0->chromadb) (0.3.0)\n",
      "Requirement already satisfied: rsa<5,>=3.1.4 in /usr/local/lib/python3.10/site-packages (from google-auth>=1.0.1->kubernetes>=28.1.0->chromadb) (4.9)\n",
      "Requirement already satisfied: zipp>=0.5 in /usr/local/lib/python3.10/site-packages (from importlib-metadata<7.0,>=6.0->opentelemetry-api>=1.2.0->chromadb) (3.17.0)\n",
      "Requirement already satisfied: jsonpointer>=1.9 in /usr/local/lib/python3.10/site-packages (from jsonpatch<2.0,>=1.33->langchain-core<0.4.0,>=0.3.22->langchain) (2.3)\n",
      "Requirement already satisfied: mdurl~=0.1 in /usr/local/lib/python3.10/site-packages (from markdown-it-py>=2.2.0->rich>=10.11.0->chromadb) (0.1.1)\n",
      "Requirement already satisfied: mypy-extensions>=0.3.0 in /usr/local/lib/python3.10/site-packages (from typing-inspect<1,>=0.4.0->dataclasses-json<0.7,>=0.5.7->langchain-community) (0.4.3)\n",
      "Requirement already satisfied: humanfriendly>=9.1 in /usr/local/lib/python3.10/site-packages (from coloredlogs->onnxruntime>=1.14.1->chromadb) (10.0)\n",
      "Requirement already satisfied: mpmath>=0.19 in /usr/local/lib/python3.10/site-packages (from sympy->onnxruntime>=1.14.1->chromadb) (1.3.0)\n",
      "Requirement already satisfied: pyasn1<0.6.0,>=0.4.6 in /usr/local/lib/python3.10/site-packages (from pyasn1-modules>=0.2.1->google-auth>=1.0.1->kubernetes>=28.1.0->chromadb) (0.5.1)\n"
     ]
    }
   ],
   "source": [
    "!pip install tiktoken PyPDF2 openai gradio chromadb pysqlite3-binary pypdf langchain langchain-community --upgrade --use-feature=fast-deps"
   ]
  },
  {
   "cell_type": "code",
   "execution_count": 2,
   "metadata": {
    "id": "UnfEhoabncmA",
    "tags": []
   },
   "outputs": [],
   "source": [
    "from langchain.document_loaders import TextLoader, PyPDFLoader\n",
    "from langchain.text_splitter import RecursiveCharacterTextSplitter\n",
    "from langchain.embeddings import HuggingFaceEmbeddings, OpenAIEmbeddings\n",
    "from langchain.vectorstores import Chroma\n",
    "import pysqlite3\n",
    "import sys\n",
    "sys.modules[\"sqlite3\"] = sys.modules.pop(\"pysqlite3\")\n",
    "import chromadb\n",
    "import openai\n",
    "import os\n",
    "from langchain.chains.question_answering import load_qa_chain\n",
    "from langchain.prompts import PromptTemplate\n",
    "from langchain.chat_models import ChatOpenAI\n",
    "import openai\n",
    "import gradio as gr"
   ]
  },
  {
   "cell_type": "code",
   "execution_count": 12,
   "metadata": {
    "colab": {
     "base_uri": "https://localhost:8080/"
    },
    "id": "f54rTASCWCy0",
    "outputId": "2ec6ac8e-1fe7-46e9-ced9-525c9f704903"
   },
   "outputs": [
    {
     "name": "stdout",
     "output_type": "stream",
     "text": [
      "voc-730917260112272230113166a5077cac4479.92242159\n"
     ]
    }
   ],
   "source": [
    "#import openai\n",
    "#openai.api_key = \"voc-730917260112272230113166a5077cac4479.92242159\"\n",
    "#print(openai.api_key)"
   ]
  },
  {
   "cell_type": "markdown",
   "metadata": {
    "id": "xxULH0Q4T8Ar"
   },
   "source": [
    "# Data Preparation\n",
    "\n",
    "* Collect Nestlé's HR policy documents, FAQs, and other relevant resources.\n",
    "* Ensure documents are clean, well-structured, and up-to-date.\n"
   ]
  },
  {
   "cell_type": "code",
   "execution_count": 3,
   "metadata": {
    "colab": {
     "base_uri": "https://localhost:8080/"
    },
    "id": "CdI0x6rZNgi6",
    "outputId": "5aeaa211-c2a9-41d2-be3e-4f93342c088c"
   },
   "outputs": [
    {
     "name": "stdout",
     "output_type": "stream",
     "text": [
      "Current working directory: /voc/work/Project1\n"
     ]
    }
   ],
   "source": [
    "#import os\n",
    "# Get the current working directory\n",
    "current_path = os.getcwd()\n",
    "print(\"Current working directory:\", current_path)"
   ]
  },
  {
   "cell_type": "code",
   "execution_count": 12,
   "metadata": {
    "id": "2dW5LfninpPI"
   },
   "outputs": [],
   "source": [
    "#Reading HR policy document\n",
    "loader = PyPDFLoader(r\"/voc/work/Project1/1728286846_the_nestle_hr_policy_pdf_2012.pdf\")"
   ]
  },
  {
   "cell_type": "markdown",
   "metadata": {
    "id": "NwrvWY5lUTqa"
   },
   "source": [
    "# Data Processing\n",
    "\n",
    "* Import necessary libraries and tools (e.g., PyPDFLoader for PDFs, OpenAI API for embeddings).\n",
    "* Preprocess and split the documents into smaller, meaningful chunks for embedding and retrieval.\n"
   ]
  },
  {
   "cell_type": "code",
   "execution_count": 13,
   "metadata": {
    "colab": {
     "base_uri": "https://localhost:8080/"
    },
    "id": "9dOXupHLUniz",
    "outputId": "3c5cbe8b-991c-4f33-c7b7-80c2632e307c"
   },
   "outputs": [
    {
     "data": {
      "text/plain": [
       "8"
      ]
     },
     "execution_count": 13,
     "metadata": {},
     "output_type": "execute_result"
    }
   ],
   "source": [
    "# Split document into chunks\n",
    "pages = loader.load_and_split()\n",
    "len(pages)"
   ]
  },
  {
   "cell_type": "code",
   "execution_count": 14,
   "metadata": {
    "colab": {
     "base_uri": "https://localhost:8080/"
    },
    "id": "DHucdLixrrhN",
    "outputId": "d66e4586-82f4-4b2d-bff3-e9d440ce1fcc"
   },
   "outputs": [
    {
     "name": "stdout",
     "output_type": "stream",
     "text": [
      "Last chunk of text:\n",
      "The Nestlé Human Resources Policy\n",
      "5\n",
      "Since its founding, Nestlé has built a culture \n",
      "based on values of trust, mutual respect and \n",
      "dialogue. Nestlé management and employees all \n",
      "over the world work daily to create and maintain \n",
      "positive individual and collective relationships, \n",
      "and are expected to do so as a core part of their \n",
      "job.\n",
      "Nestlé not only upholds the freedom of \n",
      "association of its employees and the effective \n",
      "recognition of the right to collective bargaining, \n",
      "but also ensures that direct and frequent \n",
      "communication is established in the workplace. \n",
      "While dialogue with trade unions is essential, it \n",
      "does not replace the close relationship that our \n",
      "management maintains with all employees.\n",
      "In the spirit of continuous improvement, we \n",
      "encourage two-way dialogue with our employees \n",
      "that goes beyond the traditional aspects of \n",
      "collective bargaining in order to share knowledge \n",
      "and to jointly find opportunities related to \n",
      "important matters such as Creating Shared Value, \n",
      "the health and safety in the workplace and our \n",
      "concern for the environment.\n",
      "The Company and employee representatives \n",
      "are expected to make all necessary efforts \n",
      "to develop fair and constructive dialogues, \n",
      "overcome the difficulties that they might \n",
      "encounter, reach sustainable agreements and \n",
      "implement them.\n",
      "Corporate policy: \n",
      "The Nestlé Employee Relations Policy\n",
      " Employee relations\n",
      "The Human Resources management described \n",
      "in this document requires and supports an \n",
      "organisation “on the move”. \n",
      "Nestlé is committed to continue the journey \n",
      "to establishing flat and flexible structures with \n",
      "minimal levels of management and broad spans \n",
      "of control, which enable people development, \n",
      "increase efficiency, and ease implementation \n",
      "of our “Nestlé Management and Leadership \n",
      "Principles”.\n",
      "Less hierarchical layers call for increased \n",
      "cooperation between colleagues. This is what \n",
      "will make the organisation more flexible and \n",
      "more accountable. Indeed, it supports today’s \n",
      "and tomorrow’s business requirements for an \n",
      "agile and innovative company working with ever \n",
      "competitive intensity.\n",
      "These simple beliefs have inspired us to create \n",
      "an environment that puts the emphasis not just on \n",
      "individual responsibility and autonomy, but also \n",
      "on a strong willingness to support others, to work \n",
      "in multi-skilled teams, and to cooperate rather \n",
      "than to compete internally.\n",
      "A dynamic organisation creates a climate \n",
      "of innovation and allows people to think from \n",
      "different perspectives. At Nestlé we encourage \n",
      "our people to take risks. Mistakes may be made \n",
      "but there is always a willingness to correct and \n",
      "learn from them.\n",
      "We combine the scope and brand strength \n",
      "of a global company with the creativity and \n",
      "knowledge of a local business. As a result, people \n",
      "can have far-reaching influence every day and \n",
      "explore their full long-term potential, propelled by \n",
      "continual support and a collaborative approach by \n",
      "line managers and employees.\n",
      "Corporate policy: \n",
      "Nestlé on the Move\n",
      " A flexible and dynamic organisation\n"
     ]
    }
   ],
   "source": [
    "# Print the last chunk (if chunks are used)\n",
    "print(f\"Last chunk of text:\\n{pages[7].page_content}\")"
   ]
  },
  {
   "cell_type": "code",
   "execution_count": 15,
   "metadata": {
    "colab": {
     "base_uri": "https://localhost:8080/"
    },
    "id": "pejlvo9fXRg8",
    "outputId": "9944e485-1618-4ab0-d039-2ebf51683086"
   },
   "outputs": [
    {
     "name": "stdout",
     "output_type": "stream",
     "text": [
      "Total chunks: 21\n"
     ]
    }
   ],
   "source": [
    "# Use a text splitter for better chunking\n",
    "text_splitter = RecursiveCharacterTextSplitter(chunk_size=1000, chunk_overlap=100)\n",
    "documents = text_splitter.split_documents(pages)\n",
    "\n",
    "# Display total chunks\n",
    "print(f\"Total chunks: {len(documents)}\")"
   ]
  },
  {
   "cell_type": "code",
   "execution_count": 16,
   "metadata": {
    "id": "UK7vxTNlVhyw"
   },
   "outputs": [],
   "source": [
    "# Initialize ChromaDB for persistent storage\n",
    "client = chromadb.PersistentClient(path=r\"/voc/work/Project1/ChromaDB\\Nestle_Chatbot\")"
   ]
  },
  {
   "cell_type": "markdown",
   "metadata": {
    "id": "TQ6dgDLMU_Fy"
   },
   "source": [
    "# Embeddings and Vector Store\n",
    "\n",
    "* Create vector representations of the HR documents using OpenAI's embeddings.\n",
    "* Store embeddings in a vector database like ChromaDB or Pinecone for efficient retrieval.\n"
   ]
  },
  {
   "cell_type": "code",
   "execution_count": 17,
   "metadata": {},
   "outputs": [
    {
     "name": "stdout",
     "output_type": "stream",
     "text": [
      "Defaulting to user installation because normal site-packages is not writeable\n",
      "Requirement already satisfied: openai in /voc/work/.local/lib/python3.10/site-packages (1.57.0)\n",
      "Requirement already satisfied: langchain-openai in /voc/work/.local/lib/python3.10/site-packages (0.2.11)\n",
      "Requirement already satisfied: anyio<5,>=3.5.0 in /usr/local/lib/python3.10/site-packages (from openai) (3.7.1)\n",
      "Requirement already satisfied: distro<2,>=1.7.0 in /usr/local/lib/python3.10/site-packages (from openai) (1.7.0)\n",
      "Requirement already satisfied: httpx<1,>=0.23.0 in /voc/work/.local/lib/python3.10/site-packages (from openai) (0.28.1)\n",
      "Requirement already satisfied: jiter<1,>=0.4.0 in /voc/work/.local/lib/python3.10/site-packages (from openai) (0.7.1)\n",
      "Requirement already satisfied: pydantic<3,>=1.9.0 in /voc/work/.local/lib/python3.10/site-packages (from openai) (2.10.3)\n",
      "Requirement already satisfied: sniffio in /usr/local/lib/python3.10/site-packages (from openai) (1.3.0)\n",
      "Requirement already satisfied: tqdm>4 in /usr/local/lib/python3.10/site-packages (from openai) (4.66.1)\n",
      "Requirement already satisfied: typing-extensions<5,>=4.11 in /voc/work/.local/lib/python3.10/site-packages (from openai) (4.12.2)\n",
      "Requirement already satisfied: langchain-core<0.4.0,>=0.3.21 in /voc/work/.local/lib/python3.10/site-packages (from langchain-openai) (0.3.22)\n",
      "Requirement already satisfied: tiktoken<1,>=0.7 in /voc/work/.local/lib/python3.10/site-packages (from langchain-openai) (0.8.0)\n",
      "Requirement already satisfied: idna>=2.8 in /usr/local/lib/python3.10/site-packages (from anyio<5,>=3.5.0->openai) (3.6)\n",
      "Requirement already satisfied: exceptiongroup in /usr/local/lib/python3.10/site-packages (from anyio<5,>=3.5.0->openai) (1.2.0)\n",
      "Requirement already satisfied: certifi in /usr/local/lib/python3.10/site-packages (from httpx<1,>=0.23.0->openai) (2023.11.17)\n",
      "Requirement already satisfied: httpcore==1.* in /usr/local/lib/python3.10/site-packages (from httpx<1,>=0.23.0->openai) (1.0.2)\n",
      "Requirement already satisfied: h11<0.15,>=0.13 in /usr/local/lib/python3.10/site-packages (from httpcore==1.*->httpx<1,>=0.23.0->openai) (0.14.0)\n",
      "Requirement already satisfied: PyYAML>=5.3 in /usr/local/lib/python3.10/site-packages (from langchain-core<0.4.0,>=0.3.21->langchain-openai) (6.0.1)\n",
      "Requirement already satisfied: jsonpatch<2.0,>=1.33 in /usr/local/lib/python3.10/site-packages (from langchain-core<0.4.0,>=0.3.21->langchain-openai) (1.33)\n",
      "Requirement already satisfied: langsmith<0.2.0,>=0.1.125 in /voc/work/.local/lib/python3.10/site-packages (from langchain-core<0.4.0,>=0.3.21->langchain-openai) (0.1.137)\n",
      "Requirement already satisfied: packaging<25,>=23.2 in /usr/local/lib/python3.10/site-packages (from langchain-core<0.4.0,>=0.3.21->langchain-openai) (23.2)\n",
      "Requirement already satisfied: tenacity!=8.4.0,<10.0.0,>=8.1.0 in /usr/local/lib/python3.10/site-packages (from langchain-core<0.4.0,>=0.3.21->langchain-openai) (8.2.3)\n",
      "Requirement already satisfied: annotated-types>=0.6.0 in /usr/local/lib/python3.10/site-packages (from pydantic<3,>=1.9.0->openai) (0.6.0)\n",
      "Requirement already satisfied: pydantic-core==2.27.1 in /voc/work/.local/lib/python3.10/site-packages (from pydantic<3,>=1.9.0->openai) (2.27.1)\n",
      "Requirement already satisfied: regex>=2022.1.18 in /usr/local/lib/python3.10/site-packages (from tiktoken<1,>=0.7->langchain-openai) (2023.10.3)\n",
      "Requirement already satisfied: requests>=2.26.0 in /usr/local/lib/python3.10/site-packages (from tiktoken<1,>=0.7->langchain-openai) (2.31.0)\n",
      "Requirement already satisfied: jsonpointer>=1.9 in /usr/local/lib/python3.10/site-packages (from jsonpatch<2.0,>=1.33->langchain-core<0.4.0,>=0.3.21->langchain-openai) (2.3)\n",
      "Requirement already satisfied: orjson<4.0.0,>=3.9.14 in /voc/work/.local/lib/python3.10/site-packages (from langsmith<0.2.0,>=0.1.125->langchain-core<0.4.0,>=0.3.21->langchain-openai) (3.10.10)\n",
      "Requirement already satisfied: requests-toolbelt<2.0.0,>=1.0.0 in /voc/work/.local/lib/python3.10/site-packages (from langsmith<0.2.0,>=0.1.125->langchain-core<0.4.0,>=0.3.21->langchain-openai) (1.0.0)\n",
      "Requirement already satisfied: charset-normalizer<4,>=2 in /usr/local/lib/python3.10/site-packages (from requests>=2.26.0->tiktoken<1,>=0.7->langchain-openai) (3.3.2)\n",
      "Requirement already satisfied: urllib3<3,>=1.21.1 in /usr/local/lib/python3.10/site-packages (from requests>=2.26.0->tiktoken<1,>=0.7->langchain-openai) (1.26.18)\n"
     ]
    }
   ],
   "source": [
    "!pip install --upgrade openai langchain-openai\n",
    "from langchain_openai import OpenAIEmbeddings"
   ]
  },
  {
   "cell_type": "code",
   "execution_count": 10,
   "metadata": {
    "id": "W7AC1U3xhfNW"
   },
   "outputs": [],
   "source": [
    "import os\n",
    "#from langchain.embeddings.openai import OpenAIEmbeddings\n",
    "\n",
    "os.environ[\"OPENAI_API_KEY\"] = \"voc-730917260112272230113166a5077cac4479.92242159\""
   ]
  },
  {
   "cell_type": "code",
   "execution_count": 18,
   "metadata": {
    "id": "MjjlJ6lNRzFS"
   },
   "outputs": [],
   "source": [
    "#Create Vector Store for Text Embeddings\n",
    "# Initialize OpenAI embeddings\n",
    "embeddings = OpenAIEmbeddings()\n",
    "\n",
    "# Use Chroma for storing embeddings\n",
    "chroma_db = Chroma.from_documents(documents, embeddings) #vectorstore\n"
   ]
  },
  {
   "cell_type": "code",
   "execution_count": 23,
   "metadata": {},
   "outputs": [
    {
     "name": "stdout",
     "output_type": "stream",
     "text": [
      "[(Document(metadata={'page': 3, 'source': '/voc/work/Project1/1728286846_the_nestle_hr_policy_pdf_2012.pdf'}, page_content='Only relevant skills and experience and \\nadherence to the Nestlé principles will \\nbe considered in employing a person. No \\nconsideration will be given to a candidate’s origin, \\nnationality, religion, race, gender, disability, sexual \\norientation or age.\\nWhilst adequate recruitment tools may \\nimprove the hiring process, the decision to hire a \\ncandidate remains in the hands of the responsible \\nmanager, supported by the HR team. \\n Joining Nestlé'), 0.39040276408195496), (Document(metadata={'page': 3, 'source': '/voc/work/Project1/1728286846_the_nestle_hr_policy_pdf_2012.pdf'}, page_content='Only relevant skills and experience and \\nadherence to the Nestlé principles will \\nbe considered in employing a person. No \\nconsideration will be given to a candidate’s origin, \\nnationality, religion, race, gender, disability, sexual \\norientation or age.\\nWhilst adequate recruitment tools may \\nimprove the hiring process, the decision to hire a \\ncandidate remains in the hands of the responsible \\nmanager, supported by the HR team. \\n Joining Nestlé'), 0.39040276408195496)]\n"
     ]
    }
   ],
   "source": [
    "search_result = chroma_db.similarity_search_with_score(\"What is the candidate's skill sets?\", k=2)\n",
    "print(search_result)  # Prints the top 2 most similar documents to the query"
   ]
  },
  {
   "cell_type": "code",
   "execution_count": 26,
   "metadata": {},
   "outputs": [],
   "source": [
    "# Load GPT-3.5 Turbo model\n",
    "llm = ChatOpenAI(model=\"gpt-3.5-turbo\", temperature=0)\n",
    "\n",
    "# Define a custom prompt template\n",
    "prompt_template = PromptTemplate(\n",
    "    input_variables=[\"context\", \"question\"],\n",
    "    template=\"\"\"\n",
    "You are an HR chatbot for Nestlé. Use the provided context to answer the question accurately and succinctly.\n",
    "\n",
    "Context: {context}\n",
    "\n",
    "Question: {question}\n",
    "\n",
    "Answer:\"\"\"\n",
    ")\n",
    "\n",
    "# Update the QA chain to use the custom prompt\n",
    "qa_chain = load_qa_chain(llm, chain_type=\"stuff\", prompt=prompt_template)\n"
   ]
  },
  {
   "cell_type": "code",
   "execution_count": 38,
   "metadata": {},
   "outputs": [],
   "source": [
    "def chatbot(query):\n",
    "    try:\n",
    "        # Search for relevant chunks in the vector store\n",
    "        docs = chroma_db.similarity_search(query, k=4)\n",
    "    \n",
    "        # Combine chunks into context\n",
    "        context = \" \".join([doc.page_content for doc in docs])\n",
    "        \n",
    "        # Perform similarity search and get the answer\n",
    "        answer = qa_chain.run({\"input_documents\": docs, \"question\": query})\n",
    "        return answer\n",
    "    except Exception as e:\n",
    "        return f\"An error occurred: {str(e)}\""
   ]
  },
  {
   "cell_type": "code",
   "execution_count": null,
   "metadata": {},
   "outputs": [],
   "source": []
  },
  {
   "cell_type": "code",
   "execution_count": 39,
   "metadata": {},
   "outputs": [
    {
     "name": "stdout",
     "output_type": "stream",
     "text": [
      "* Running on local URL:  http://127.0.0.1:7864\n",
      "* Running on public URL: https://e9f8432e015033a5ce.gradio.live\n",
      "\n",
      "This share link expires in 72 hours. For free permanent hosting and GPU upgrades, run `gradio deploy` from the terminal in the working directory to deploy to Hugging Face Spaces (https://huggingface.co/spaces)\n"
     ]
    },
    {
     "data": {
      "text/html": [
       "<div><iframe src=\"https://e9f8432e015033a5ce.gradio.live\" width=\"100%\" height=\"500\" allow=\"autoplay; camera; microphone; clipboard-read; clipboard-write;\" frameborder=\"0\" allowfullscreen></iframe></div>"
      ],
      "text/plain": [
       "<IPython.core.display.HTML object>"
      ]
     },
     "metadata": {},
     "output_type": "display_data"
    },
    {
     "data": {
      "text/plain": []
     },
     "execution_count": 39,
     "metadata": {},
     "output_type": "execute_result"
    }
   ],
   "source": [
    "# Build Gradio interface\n",
    "with gr.Blocks() as demo:\n",
    "    gr.Markdown(\"### Nestlé HR Chatbot\")\n",
    "    query = gr.Textbox(label=\"Ask your HR question\")\n",
    "    output = gr.Textbox(label=\"Chatbot Response\")\n",
    "    submit_btn = gr.Button(\"Submit\")\n",
    "    submit_btn.click(fn=chatbot, inputs=query, outputs=output)\n",
    "\n",
    "# Launch the Gradio app\n",
    "demo.launch(share=True)\n"
   ]
  },
  {
   "cell_type": "markdown",
   "metadata": {},
   "source": [
    "Questions \n",
    "\n",
    "What is Nestle's sick leave policy?\n",
    "\n",
    "What strategies does Nestlé implement to nurture and develop employee talent?\n",
    "\n",
    "How does Nestle in the Market process streamline HR functions, and what are the three areas of specilization within the HR structure?\n",
    "\n",
    "What criterea does Nestle consider when hiring new employees?\n",
    "\n",
    "How many company holidays are there in 2012?\n",
    "\n"
   ]
  },
  {
   "cell_type": "code",
   "execution_count": 40,
   "metadata": {},
   "outputs": [
    {
     "name": "stdout",
     "output_type": "stream",
     "text": [
      "Rerunning server... use `close()` to stop if you need to change `launch()` parameters.\n",
      "----\n",
      "* Running on public URL: https://e9f8432e015033a5ce.gradio.live\n",
      "\n",
      "This share link expires in 72 hours. For free permanent hosting and GPU upgrades, run `gradio deploy` from the terminal in the working directory to deploy to Hugging Face Spaces (https://huggingface.co/spaces)\n"
     ]
    },
    {
     "data": {
      "text/html": [
       "<div><iframe src=\"https://e9f8432e015033a5ce.gradio.live\" width=\"100%\" height=\"500\" allow=\"autoplay; camera; microphone; clipboard-read; clipboard-write;\" frameborder=\"0\" allowfullscreen></iframe></div>"
      ],
      "text/plain": [
       "<IPython.core.display.HTML object>"
      ]
     },
     "metadata": {},
     "output_type": "display_data"
    },
    {
     "data": {
      "text/plain": []
     },
     "execution_count": 40,
     "metadata": {},
     "output_type": "execute_result"
    }
   ],
   "source": [
    "demo.launch(share=True)"
   ]
  },
  {
   "cell_type": "code",
   "execution_count": null,
   "metadata": {},
   "outputs": [],
   "source": []
  }
 ],
 "metadata": {
  "colab": {
   "provenance": []
  },
  "kernelspec": {
   "display_name": "Python 3 [3.10]",
   "language": "python",
   "name": "python3"
  },
  "language_info": {
   "codemirror_mode": {
    "name": "ipython",
    "version": 3
   },
   "file_extension": ".py",
   "mimetype": "text/x-python",
   "name": "python",
   "nbconvert_exporter": "python",
   "pygments_lexer": "ipython3",
   "version": "3.10.2"
  },
  "toc-showmarkdowntxt": true
 },
 "nbformat": 4,
 "nbformat_minor": 4
}
